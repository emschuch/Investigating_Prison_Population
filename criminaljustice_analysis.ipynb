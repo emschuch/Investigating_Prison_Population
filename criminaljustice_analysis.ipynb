{
 "cells": [
  {
   "cell_type": "markdown",
   "metadata": {},
   "source": [
    "### Data Analysis\n",
    "\n",
    "Criminal Justice - Survey of Inmates"
   ]
  },
  {
   "cell_type": "code",
   "execution_count": 1,
   "metadata": {
    "collapsed": true
   },
   "outputs": [],
   "source": [
    "from __future__ import division\n",
    "\n",
    "import pandas as pd\n",
    "import numpy as np\n",
    "import copy\n",
    "\n",
    "from sklearn.preprocessing import MinMaxScaler\n",
    "from sklearn.linear_model import LogisticRegression\n",
    "from sklearn.naive_bayes import GaussianNB\n",
    "from sklearn.svm import SVC\n",
    "from sklearn.tree import DecisionTreeClassifier\n",
    "from sklearn.ensemble import RandomForestClassifier\n",
    "from sklearn.cross_validation import train_test_split, cross_val_score\n",
    "from patsy import dmatrices\n",
    "\n",
    "from sklearn.metrics import accuracy_score, precision_score, recall_score, f1_score\n",
    "from sklearn.metrics import roc_curve, auc\n",
    "\n",
    "pd.set_option('max_columns', 100)"
   ]
  },
  {
   "cell_type": "code",
   "execution_count": 2,
   "metadata": {
    "collapsed": true
   },
   "outputs": [],
   "source": [
    "with open('inmate_clean.csv') as datafile:\n",
    "    data4 = pd.read_csv(datafile)"
   ]
  },
  {
   "cell_type": "markdown",
   "metadata": {},
   "source": [
    "> Consolidate HS degree data."
   ]
  },
  {
   "cell_type": "code",
   "execution_count": 3,
   "metadata": {
    "collapsed": true
   },
   "outputs": [],
   "source": [
    "data4['degree'] = data4[['has_HSD', 'has_GED']].max(axis=1)\n",
    "\n",
    "degree = data4[data4['degree'] == 1]\n",
    "nondegree = data4[data4['degree'] != 1]"
   ]
  },
  {
   "cell_type": "markdown",
   "metadata": {},
   "source": [
    "> Pre-process data"
   ]
  },
  {
   "cell_type": "code",
   "execution_count": 4,
   "metadata": {
    "collapsed": true
   },
   "outputs": [],
   "source": [
    "data_num = data4[['ntimes_arrested', 'age_arrest_first', 'ntimes_incarc_adult', \n",
    "                  'ntimes_incarc_juv', 'highest_grade_attend', 'monthly_income_prior', \n",
    "                  'age_crime_first', 'age_drink_first', 'drink_frequency']]\n",
    "\n",
    "min_max_scaler = MinMaxScaler()\n",
    "data_scaled = min_max_scaler.fit_transform(data_num)\n",
    "\n",
    "preproc_data = pd.DataFrame(data_scaled)\n",
    "\n",
    "preproc_data.columns = data_num.columns"
   ]
  },
  {
   "cell_type": "code",
   "execution_count": 5,
   "metadata": {
    "collapsed": true
   },
   "outputs": [],
   "source": [
    "data4.index = data4['unique_id']\n",
    "\n",
    "preproc_data.index = data4['unique_id']"
   ]
  },
  {
   "cell_type": "markdown",
   "metadata": {},
   "source": [
    "> Combine pre-processed and categorical columns"
   ]
  },
  {
   "cell_type": "code",
   "execution_count": 6,
   "metadata": {
    "collapsed": true
   },
   "outputs": [],
   "source": [
    "cat_cols = ['violent', 'crime_type', 'gender', 'race', 'marital_stat', 'is_military', \n",
    "            'violent_first', 'probation_yn', 'degree', 'had_job', \n",
    "            'public_assist_prior', 'family_makeup', 'child_caretaker_welfare', \n",
    "            'child_caretaker_substabuse', 'parents_servetime', 'family_servetime', \n",
    "            'commit_crime_juv', 'forcible_sex', 'phys_abuse', 'used_heroin', 'used_meth', \n",
    "            'used_barbiturates', 'used_crack', 'used_cocaine', 'used_pcp', \n",
    "            'used_ecstacy', 'used_lsd', 'used_pot']\n",
    "\n",
    "for col in cat_cols:\n",
    "    preproc_data[col] = data4[col]"
   ]
  },
  {
   "cell_type": "markdown",
   "metadata": {},
   "source": [
    "> Define functions for running various models"
   ]
  },
  {
   "cell_type": "code",
   "execution_count": 7,
   "metadata": {
    "collapsed": true
   },
   "outputs": [],
   "source": [
    "def get_scores(model_dict):\n",
    "    for mname, m in model_dict.iteritems():\n",
    "        print \"*** %s\" % mname\n",
    "        m.fit(X_tr, y_tr)\n",
    "        preds = m.predict(X_ts)\n",
    "        proba = m.predict_proba(X_ts)\n",
    "        print 'accuracy: %f' % accuracy_score(y_ts, preds)\n",
    "        print 'precision: %f' % precision_score(y_ts, preds)\n",
    "        print 'recall: %f' % recall_score(y_ts, preds)\n",
    "        print 'f1 score: %f' % f1_score(y_ts, preds)\n",
    "        print '\\n'\n",
    "        all_preds[mname] = preds\n",
    "        all_proba[mname] = proba"
   ]
  },
  {
   "cell_type": "code",
   "execution_count": 8,
   "metadata": {
    "collapsed": true
   },
   "outputs": [],
   "source": [
    "def get_scores_coef(model_dict):\n",
    "    for mname, m in model_dict.iteritems():\n",
    "        print \"*** %s\" % mname\n",
    "        m.fit(X_tr, y_tr)\n",
    "        preds = m.predict(X_ts)\n",
    "        proba = m.predict_proba(X_ts)\n",
    "        print 'accuracy: %f' % accuracy_score(y_ts, preds)\n",
    "        print 'precision: %f' % precision_score(y_ts, preds)\n",
    "        print 'recall: %f' % recall_score(y_ts, preds)\n",
    "        print 'f1 score: %f' % f1_score(y_ts, preds)\n",
    "        print '\\n'\n",
    "        coefs = sorted(zip(m.coef_[0], X_tr.columns))\n",
    "        for coef in coefs:\n",
    "            print '%.05f \\t%s' % (coef)\n",
    "        all_preds[mname] = preds\n",
    "        all_proba[mname] = proba\n",
    "        return coefs"
   ]
  },
  {
   "cell_type": "code",
   "execution_count": 9,
   "metadata": {
    "collapsed": true
   },
   "outputs": [],
   "source": [
    "def get_crossval_scores(X, y, model_dict):\n",
    "    print 'CROSS VALIDATION SCORES'\n",
    "    for mname, m in model_dict.iteritems():\n",
    "        print '\\n*** %s' % mname\n",
    "        acc = np.mean(cross_val_score(m, X, y, scoring='accuracy'))\n",
    "        pre = np.mean(cross_val_score(m, X, y, scoring='precision'))\n",
    "        rec = np.mean(cross_val_score(m, X, y, scoring='recall'))\n",
    "        f1 = np.mean(cross_val_score(m, X, y, scoring='f1'))\n",
    "        print 'cv score: %f' % np.mean(cross_val_score(m, X, y))\n",
    "        print 'accuracy: %f' % acc\n",
    "        print 'precision: %f' % pre\n",
    "        print 'recall: %f' % rec\n",
    "        print 'f1 score: %f' % f1"
   ]
  },
  {
   "cell_type": "markdown",
   "metadata": {},
   "source": [
    "> Create matrices, split into test and train, define models"
   ]
  },
  {
   "cell_type": "code",
   "execution_count": 10,
   "metadata": {
    "collapsed": true
   },
   "outputs": [],
   "source": [
    "columns = preproc_data.columns.difference(['violent', 'crime_type'])\n",
    "\n",
    "formula = 'violent ~ ' + ' + '.join(columns)\n",
    "\n",
    "y, X = dmatrices(formula, data=preproc_data, return_type='dataframe')\n",
    "\n",
    "X = X.iloc[:,1:]\n",
    "y = y.iloc[:,0]"
   ]
  },
  {
   "cell_type": "code",
   "execution_count": 11,
   "metadata": {
    "collapsed": true
   },
   "outputs": [],
   "source": [
    "rs = 11\n",
    "\n",
    "X_tr, X_ts, y_tr, y_ts = train_test_split(X, y, test_size = 0.25, random_state=rs)\n",
    "\n",
    "models = {\n",
    "          'logistic': LogisticRegression(),\n",
    "          'gauss naive bayes': GaussianNB(),\n",
    "          'SVM': SVC(random_state=rs, probability=True),\n",
    "          'decision tree': DecisionTreeClassifier(random_state=rs),\n",
    "          'random forest': RandomForestClassifier(random_state=rs)\n",
    "         }"
   ]
  },
  {
   "cell_type": "markdown",
   "metadata": {},
   "source": [
    "> Run models with all features"
   ]
  },
  {
   "cell_type": "code",
   "execution_count": 12,
   "metadata": {
    "collapsed": false
   },
   "outputs": [
    {
     "name": "stdout",
     "output_type": "stream",
     "text": [
      "*** gauss naive bayes\n",
      "accuracy: 0.615802\n",
      "precision: 0.648533\n",
      "recall: 0.759430\n",
      "f1 score: 0.699614\n",
      "\n",
      "\n",
      "*** SVM\n",
      "accuracy: 0.657778\n",
      "precision: 0.663399\n",
      "recall: 0.850796\n",
      "f1 score: 0.745501\n",
      "\n",
      "\n",
      "*** random forest\n",
      "accuracy: 0.626667\n",
      "precision: 0.694222\n",
      "recall: 0.654652\n",
      "f1 score: 0.673857\n",
      "\n",
      "\n",
      "*** logistic\n",
      "accuracy: 0.662222\n",
      "precision: 0.684287\n",
      "recall: 0.792121\n",
      "f1 score: 0.734266\n",
      "\n",
      "\n",
      "*** decision tree\n",
      "accuracy: 0.573333\n",
      "precision: 0.639289\n",
      "recall: 0.632858\n",
      "f1 score: 0.636057\n",
      "\n",
      "\n"
     ]
    }
   ],
   "source": [
    "all_preds = {}\n",
    "all_proba = {}\n",
    "\n",
    "get_scores(models)"
   ]
  },
  {
   "cell_type": "markdown",
   "metadata": {},
   "source": [
    "> Run SVM linear model and get coefficients"
   ]
  },
  {
   "cell_type": "code",
   "execution_count": 13,
   "metadata": {
    "collapsed": false
   },
   "outputs": [
    {
     "name": "stdout",
     "output_type": "stream",
     "text": [
      "*** SVC linear\n",
      "accuracy: 0.666667\n",
      "precision: 0.682910\n",
      "recall: 0.810562\n",
      "f1 score: 0.741280\n",
      "\n",
      "\n",
      "-3.63631 \tage_arrest_first\n",
      "-2.82375 \tntimes_arrested\n",
      "-2.54133 \tntimes_incarc_adult\n",
      "-2.08546 \tage_drink_first\n",
      "-1.17099 \tage_crime_first\n",
      "-0.88073 \trace[T.race_unknown]\n",
      "-0.73471 \tmarital_stat[T.separated]\n",
      "-0.72184 \thighest_grade_attend\n",
      "-0.60721 \tused_meth\n",
      "-0.55426 \trace[T.other]\n",
      "-0.54149 \tmonthly_income_prior\n",
      "-0.52216 \tused_crack\n",
      "-0.50295 \tmarital_stat[T.married]\n",
      "-0.48208 \tprobation_yn\n",
      "-0.45462 \tfamily_makeup[T.friends]\n",
      "-0.43165 \trace[T.white]\n",
      "-0.40341 \tused_ecstacy\n",
      "-0.36819 \trace[T.black]\n",
      "-0.35742 \tmarital_stat[T.never_marr]\n",
      "-0.24266 \tused_cocaine\n",
      "-0.23259 \tfamily_makeup[T.institution]\n",
      "-0.21713 \trace[T.native_am]\n",
      "-0.20026 \tfamily_makeup[T.family_unknown]\n",
      "-0.07614 \tfamily_makeup[T.mother]\n",
      "-0.07356 \tused_heroin\n",
      "-0.06740 \tntimes_incarc_juv\n",
      "-0.06496 \tmarital_stat[T.mar_unknown]\n",
      "-0.06465 \tused_pot\n",
      "-0.00163 \tcommit_crime_juv\n",
      "0.00963 \tchild_caretaker_substabuse\n",
      "0.01053 \tfamily_servetime\n",
      "0.03443 \tfamily_makeup[T.grandparents]\n",
      "0.04787 \tused_barbiturates\n",
      "0.07156 \tfamily_makeup[T.foster]\n",
      "0.08202 \tchild_caretaker_welfare\n",
      "0.08523 \tparents_servetime\n",
      "0.09876 \thad_job\n",
      "0.13047 \tfamily_makeup[T.father]\n",
      "0.13304 \tpublic_assist_prior\n",
      "0.16982 \tfamily_makeup[T.other_rel]\n",
      "0.18525 \tused_lsd\n",
      "0.19840 \tused_pcp\n",
      "0.22101 \tmarital_stat[T.widowed]\n",
      "0.24436 \tdegree\n",
      "0.30829 \tdrink_frequency\n",
      "0.33304 \tviolent_first\n",
      "0.36284 \tphys_abuse\n",
      "0.39041 \tforcible_sex\n",
      "0.42060 \tis_military\n",
      "0.82247 \tgender[T.male]\n"
     ]
    }
   ],
   "source": [
    "svc1 = get_scores_coef({'SVC linear': SVC(kernel='linear', \n",
    "                        gamma=2, random_state=rs, probability=True)})"
   ]
  },
  {
   "cell_type": "markdown",
   "metadata": {},
   "source": [
    "> Run cross-validation on all models"
   ]
  },
  {
   "cell_type": "code",
   "execution_count": 14,
   "metadata": {
    "collapsed": false
   },
   "outputs": [
    {
     "name": "stdout",
     "output_type": "stream",
     "text": [
      "CROSS VALIDATION SCORES\n",
      "\n",
      "*** gauss naive bayes\n",
      "cv score: 0.621807\n",
      "accuracy: 0.621807\n",
      "precision: 0.646979\n",
      "recall: 0.763810\n",
      "f1 score: 0.699159\n",
      "\n",
      "*** SVM\n",
      "cv score: 0.643909\n",
      "accuracy: 0.643909\n",
      "precision: 0.646432\n",
      "recall: 0.851039\n",
      "f1 score: 0.733616\n",
      "\n",
      "*** random forest\n",
      "cv score: 0.611928\n",
      "accuracy: 0.611928\n",
      "precision: 0.668705\n",
      "recall: 0.647445\n",
      "f1 score: 0.657571\n",
      "\n",
      "*** logistic\n",
      "cv score: 0.657615\n",
      "accuracy: 0.657615\n",
      "precision: 0.673745\n",
      "recall: 0.793605\n",
      "f1 score: 0.727629\n",
      "\n",
      "*** decision tree\n",
      "cv score: 0.578960\n",
      "accuracy: 0.578960\n",
      "precision: 0.635171\n",
      "recall: 0.633943\n",
      "f1 score: 0.634228\n"
     ]
    }
   ],
   "source": [
    "get_crossval_scores(X, y, models)"
   ]
  },
  {
   "cell_type": "markdown",
   "metadata": {},
   "source": [
    "> Remove features and rerun models"
   ]
  },
  {
   "cell_type": "code",
   "execution_count": 15,
   "metadata": {
    "collapsed": true
   },
   "outputs": [],
   "source": [
    "columns = preproc_data.columns.difference(['violent', 'crime_type', 'race', \n",
    "                                           'family_makeup', 'ntimes_incarc_juv', \n",
    "                                           'commit_crime_juv', 'family_servetime', \n",
    "                                           'marital_stat', \n",
    "                                           'child_caretaker_substabuse', 'used_pot', \n",
    "                                           'used_heroin', 'used_barbiturates'])\n",
    "\n",
    "formula = 'violent ~ ' + ' + '.join(columns)\n",
    "\n",
    "y, X = dmatrices(formula, data=preproc_data, return_type='dataframe')\n",
    "\n",
    "X = X.iloc[:,1:]\n",
    "y = y.iloc[:,0]\n",
    "\n",
    "rs = 11\n",
    "\n",
    "X_tr, X_ts, y_tr, y_ts = train_test_split(X, y, test_size = 0.25, random_state=rs)"
   ]
  },
  {
   "cell_type": "code",
   "execution_count": 16,
   "metadata": {
    "collapsed": false
   },
   "outputs": [
    {
     "name": "stdout",
     "output_type": "stream",
     "text": [
      "*** gauss naive bayes\n",
      "accuracy: 0.636543\n",
      "precision: 0.664744\n",
      "recall: 0.772842\n",
      "f1 score: 0.714729\n",
      "\n",
      "\n",
      "*** SVM\n",
      "accuracy: 0.653333\n",
      "precision: 0.658900\n",
      "recall: 0.853311\n",
      "f1 score: 0.743608\n",
      "\n",
      "\n",
      "*** random forest\n",
      "accuracy: 0.621728\n",
      "precision: 0.692864\n",
      "recall: 0.642917\n",
      "f1 score: 0.666957\n",
      "\n",
      "\n",
      "*** logistic\n",
      "accuracy: 0.669630\n",
      "precision: 0.689855\n",
      "recall: 0.797988\n",
      "f1 score: 0.739992\n",
      "\n",
      "\n",
      "*** decision tree\n",
      "accuracy: 0.594074\n",
      "precision: 0.656540\n",
      "recall: 0.652137\n",
      "f1 score: 0.654331\n",
      "\n",
      "\n"
     ]
    }
   ],
   "source": [
    "get_scores(models)"
   ]
  },
  {
   "cell_type": "code",
   "execution_count": 17,
   "metadata": {
    "collapsed": false
   },
   "outputs": [
    {
     "name": "stdout",
     "output_type": "stream",
     "text": [
      "*** SVC linear\n",
      "accuracy: 0.663210\n",
      "precision: 0.677062\n",
      "recall: 0.818944\n",
      "f1 score: 0.741275\n",
      "\n",
      "\n",
      "-3.57321 \tage_arrest_first\n",
      "-3.01791 \tntimes_incarc_adult\n",
      "-2.87206 \tntimes_arrested\n",
      "-1.69921 \tage_drink_first\n",
      "-0.85247 \tage_crime_first\n",
      "-0.61916 \thighest_grade_attend\n",
      "-0.57000 \tused_meth\n",
      "-0.55675 \tused_crack\n",
      "-0.51508 \tmonthly_income_prior\n",
      "-0.47091 \tprobation_yn\n",
      "-0.44895 \tused_ecstacy\n",
      "-0.24125 \tused_cocaine\n",
      "0.04495 \tparents_servetime\n",
      "0.04612 \tchild_caretaker_welfare\n",
      "0.10883 \tpublic_assist_prior\n",
      "0.12037 \thad_job\n",
      "0.20599 \tused_lsd\n",
      "0.21434 \tused_pcp\n",
      "0.22713 \tdegree\n",
      "0.26300 \tdrink_frequency\n",
      "0.35507 \tviolent_first\n",
      "0.40362 \tphys_abuse\n",
      "0.41518 \tforcible_sex\n",
      "0.45979 \tis_military\n",
      "0.80428 \tgender[T.male]\n"
     ]
    }
   ],
   "source": [
    "coef = get_scores_coef({'SVC linear': SVC(kernel='linear', \n",
    "                        gamma=2, random_state=rs, probability=True)})"
   ]
  },
  {
   "cell_type": "code",
   "execution_count": 18,
   "metadata": {
    "collapsed": false
   },
   "outputs": [
    {
     "name": "stdout",
     "output_type": "stream",
     "text": [
      "*** logistic\n",
      "accuracy: 0.669630\n",
      "precision: 0.689855\n",
      "recall: 0.797988\n",
      "f1 score: 0.739992\n",
      "\n",
      "\n",
      "-2.74764 \tage_arrest_first\n",
      "-2.26130 \tntimes_arrested\n",
      "-1.68176 \tage_drink_first\n",
      "-1.62440 \tntimes_incarc_adult\n",
      "-0.86762 \tage_crime_first\n",
      "-0.61393 \thighest_grade_attend\n",
      "-0.52084 \tmonthly_income_prior\n",
      "-0.51422 \tprobation_yn\n",
      "-0.50337 \tused_meth\n",
      "-0.43266 \tused_crack\n",
      "-0.39191 \tused_ecstacy\n",
      "-0.28496 \tused_cocaine\n",
      "0.08997 \tchild_caretaker_welfare\n",
      "0.09810 \thad_job\n",
      "0.10165 \tparents_servetime\n",
      "0.12077 \tpublic_assist_prior\n",
      "0.17942 \tused_pcp\n",
      "0.22626 \tused_lsd\n",
      "0.25575 \tdegree\n",
      "0.32188 \tviolent_first\n",
      "0.33671 \tdrink_frequency\n",
      "0.41144 \tphys_abuse\n",
      "0.48504 \tforcible_sex\n",
      "0.53612 \tis_military\n",
      "0.75184 \tgender[T.male]\n"
     ]
    }
   ],
   "source": [
    "coef2 = get_scores_coef({'logistic': LogisticRegression()})"
   ]
  },
  {
   "cell_type": "markdown",
   "metadata": {},
   "source": [
    "> Examine inmates with / without HS degree"
   ]
  },
  {
   "cell_type": "code",
   "execution_count": 19,
   "metadata": {
    "collapsed": false
   },
   "outputs": [
    {
     "data": {
      "text/plain": [
       "0.5792073095443881"
      ]
     },
     "execution_count": 19,
     "metadata": {},
     "output_type": "execute_result"
    }
   ],
   "source": [
    "data4['degree'].mean()"
   ]
  },
  {
   "cell_type": "code",
   "execution_count": 20,
   "metadata": {
    "collapsed": true
   },
   "outputs": [],
   "source": [
    "data4['degree'] = data4[['has_HSD', 'has_GED']].max(axis=1)\n",
    "\n",
    "degree = data4[data4['degree'] == 1]\n",
    "nondegree = data4[data4['degree'] != 1]"
   ]
  },
  {
   "cell_type": "code",
   "execution_count": 21,
   "metadata": {
    "collapsed": false
   },
   "outputs": [
    {
     "name": "stdout",
     "output_type": "stream",
     "text": [
      "violent: 0.576121\n",
      "drug: 0.193851\n",
      "property: 0.153599\n",
      "public_order: 0.060131\n",
      "other: 0.016298\n"
     ]
    }
   ],
   "source": [
    "countsd = pd.DataFrame([degree.crime_type.value_counts(), \n",
    "                        nondegree.crime_type.value_counts()])\n",
    "\n",
    "countsd.columns = ['violent', 'drug', 'property', 'public_order', 'other']\n",
    "\n",
    "for col in countsd.columns:\n",
    "    print '%s: %f' % (col, countsd[col].sum() / len(data4))"
   ]
  },
  {
   "cell_type": "code",
   "execution_count": 22,
   "metadata": {
    "collapsed": true
   },
   "outputs": [],
   "source": [
    "share_crime = []\n",
    "share_degree = []\n",
    "\n",
    "for col in countsd.columns:\n",
    "    c = countsd[col].sum() / len(data4)\n",
    "    d = countsd[col][0] / (countsd[col][0] + countsd[col][1])\n",
    "    share_crime.append(c)\n",
    "    share_degree.append(d)"
   ]
  },
  {
   "cell_type": "code",
   "execution_count": 23,
   "metadata": {
    "collapsed": true
   },
   "outputs": [],
   "source": [
    "hw_df = pd.DataFrame([share_crime, share_degree])\n",
    "\n",
    "hw_df.columns = countsd.columns\n",
    "\n",
    "hw_df.index = ['h', 'w']\n",
    "\n",
    "hw_df = hw_df.transpose()"
   ]
  },
  {
   "cell_type": "code",
   "execution_count": 24,
   "metadata": {
    "collapsed": true
   },
   "outputs": [],
   "source": [
    "hw_df.to_csv('tree_mappy.csv', index=False)"
   ]
  },
  {
   "cell_type": "code",
   "execution_count": null,
   "metadata": {
    "collapsed": true
   },
   "outputs": [],
   "source": []
  }
 ],
 "metadata": {
  "kernelspec": {
   "display_name": "Python 2",
   "language": "python",
   "name": "python2"
  },
  "language_info": {
   "codemirror_mode": {
    "name": "ipython",
    "version": 2
   },
   "file_extension": ".py",
   "mimetype": "text/x-python",
   "name": "python",
   "nbconvert_exporter": "python",
   "pygments_lexer": "ipython2",
   "version": "2.7.10"
  }
 },
 "nbformat": 4,
 "nbformat_minor": 0
}
